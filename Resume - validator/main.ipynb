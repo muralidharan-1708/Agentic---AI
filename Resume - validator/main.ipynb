{
 "cells": [
  {
   "cell_type": "code",
   "execution_count": 1,
   "id": "494090bd",
   "metadata": {},
   "outputs": [
    {
     "name": "stdout",
     "output_type": "stream",
     "text": [
      "Note: you may need to restart the kernel to use updated packages.\n"
     ]
    },
    {
     "name": "stderr",
     "output_type": "stream",
     "text": [
      "ERROR: pip's dependency resolver does not currently take into account all the packages that are installed. This behaviour is the source of the following dependency conflicts.\n",
      "fastapi-jwt-auth 0.5.0 requires PyJWT<2.0.0,>=1.7.1, but you have pyjwt 2.10.1 which is incompatible.\n"
     ]
    }
   ],
   "source": [
    "%pip install -q crewai"
   ]
  },
  {
   "cell_type": "code",
   "execution_count": 2,
   "id": "cab1ffbb",
   "metadata": {},
   "outputs": [
    {
     "name": "stdout",
     "output_type": "stream",
     "text": [
      "Note: you may need to restart the kernel to use updated packages.\n"
     ]
    },
    {
     "name": "stderr",
     "output_type": "stream",
     "text": [
      "ERROR: pip's dependency resolver does not currently take into account all the packages that are installed. This behaviour is the source of the following dependency conflicts.\n",
      "ollama 0.3.3 requires httpx<0.28.0,>=0.27.0, but you have httpx 0.28.1 which is incompatible.\n"
     ]
    }
   ],
   "source": [
    "%pip install -q langchain langchain_community google-genai"
   ]
  },
  {
   "cell_type": "code",
   "execution_count": 4,
   "id": "c0d68bec",
   "metadata": {},
   "outputs": [],
   "source": [
    "from crewai import Agent, Task, Crew\n",
    "from langchain_community.chat_models import ChatLiteLLM\n",
    "from dotenv import load_dotenv\n",
    "import os\n",
    "\n",
    "load_dotenv()\n",
    "\n",
    "API_KEY = os.getenv(\"GOOGLE_API_KEY\")\n",
    "llm = ChatLiteLLM(\n",
    "    model = \"gemini/gemini-1.5-flash\",\n",
    "    temperature=0.5,\n",
    "    api_key= API_KEY\n",
    ")"
   ]
  },
  {
   "cell_type": "code",
   "execution_count": 5,
   "id": "0b492d16",
   "metadata": {},
   "outputs": [],
   "source": [
    "resume_text = '''\n",
    "Name : Muralidharan S\n",
    "Skills : Python, C++, Java, Deep learning, NLP, SQL, Machine learing, Flask, HTML, CSS, JS, LLM\n",
    "education : B.Tech in Artificial Intelligence and Datascience\n",
    "'''"
   ]
  },
  {
   "cell_type": "code",
   "execution_count": 6,
   "id": "0909add9",
   "metadata": {},
   "outputs": [],
   "source": [
    "#agent 1 : Evaluator\n",
    "evaluator = Agent(\n",
    "    role = \"Resume Evaluator\",\n",
    "    goal = \"Evaluate resume for AI/ML job fit\",\n",
    "    backstory = \"Expert in talent assesment and ML hiring\",\n",
    "    llm = llm\n",
    ")"
   ]
  },
  {
   "cell_type": "code",
   "execution_count": 7,
   "id": "348128bd",
   "metadata": {},
   "outputs": [],
   "source": [
    "#Agent 2 : Reply Writer\n",
    "Replier = Agent(\n",
    "    role = \"Reply Writer\",\n",
    "    goal = \"Write a polite reply to the candidates\",\n",
    "    backstory=\"An HR pro in reviewing resume and reply the candidates\",\n",
    "    llm = llm\n",
    ")"
   ]
  },
  {
   "cell_type": "code",
   "execution_count": 8,
   "id": "895b0d2a",
   "metadata": {},
   "outputs": [],
   "source": [
    "#Task 1 : Evaluation\n",
    "evaluation_task = Task(\n",
    "    description = f\"\"\" Check if the following resume is fit for AI/ML Engineer Role.\n",
    "    Respond with YES or NO and a short reason:\\n\\n{resume_text}\"\"\",\n",
    "    agent = evaluator,\n",
    "    expected_output = \"YES or NO with short reason\"\n",
    ")"
   ]
  },
  {
   "cell_type": "code",
   "execution_count": 9,
   "id": "422de444",
   "metadata": {},
   "outputs": [],
   "source": [
    "#Task 2 : Write Reply\n",
    "reply_task = Task(\n",
    "    description = \"\"\"using the evaluation result, write:\n",
    "    - An acceptance message if YES\n",
    "    - A rejection message if NO\"\"\",\n",
    "    agent = Replier,\n",
    "    expected_output = \"Acceptance or Rejection message\"\n",
    ")\n"
   ]
  },
  {
   "cell_type": "code",
   "execution_count": 10,
   "id": "0c8a3d09",
   "metadata": {},
   "outputs": [],
   "source": [
    "crew = Crew(\n",
    "    agents = [evaluator,Replier],\n",
    "    tasks =[evaluation_task,reply_task]\n",
    ")"
   ]
  },
  {
   "cell_type": "code",
   "execution_count": 11,
   "id": "7eb3aba7",
   "metadata": {},
   "outputs": [
    {
     "name": "stdout",
     "output_type": "stream",
     "text": [
      "\n",
      "Final Message to the Candidate: \n",
      "\n",
      "Subject: Job Application - [Job Title] at [Company Name]\n",
      "\n",
      "Dear [Candidate Name],\n",
      "\n",
      "We are pleased to inform you that your application for the [Job Title] position at [Company Name] has been successful.  Your strong academic background in B.Tech Artificial Intelligence and Datascience, coupled with your impressive skillset in Python, C++, Java, Deep learning, NLP, SQL, Machine learning, and LLMs, aligns perfectly with the requirements of this role.  We were particularly impressed with your demonstrated potential for full-stack development, given your experience with Flask, HTML, CSS, and JS.  This is a valuable asset for deploying and maintaining our machine learning models.\n",
      "\n",
      "We would like to invite you to the next stage of the interview process, which will involve [briefly describe next steps, e.g., a technical interview with [Team Member Name] on [Date] at [Time]].  Please let us know if this time works for you, or if you require an alternative arrangement.\n",
      "\n",
      "We look forward to hearing from you soon.\n",
      "\n",
      "Sincerely,\n",
      "\n",
      "The [Company Name] Hiring Team\n"
     ]
    },
    {
     "name": "stderr",
     "output_type": "stream",
     "text": [
      "c:\\Users\\MuraliDharan S\\AppData\\Local\\Programs\\Python\\Python312\\Lib\\site-packages\\pydantic\\main.py:390: UserWarning: Pydantic serializer warnings:\n",
      "  PydanticSerializationUnexpectedValue: Expected 9 fields but got 5 for type `Message` with value `Message(content='Thought: I now can give a great a...unction_call=None, provider_specific_fields=None)` - serialized value may not be as expected.\n",
      "  PydanticSerializationUnexpectedValue: Expected `StreamingChoices` but got `Choices` with value `Choices(finish_reason='st...r_specific_fields=None))` - serialized value may not be as expected\n",
      "  return self.__pydantic_serializer__.to_python(\n"
     ]
    }
   ],
   "source": [
    "result = crew.kickoff()\n",
    "print(\"\\nFinal Message to the Candidate: \\n\")\n",
    "print(result)"
   ]
  }
 ],
 "metadata": {
  "kernelspec": {
   "display_name": "Python 3",
   "language": "python",
   "name": "python3"
  },
  "language_info": {
   "codemirror_mode": {
    "name": "ipython",
    "version": 3
   },
   "file_extension": ".py",
   "mimetype": "text/x-python",
   "name": "python",
   "nbconvert_exporter": "python",
   "pygments_lexer": "ipython3",
   "version": "3.12.3"
  }
 },
 "nbformat": 4,
 "nbformat_minor": 5
}
