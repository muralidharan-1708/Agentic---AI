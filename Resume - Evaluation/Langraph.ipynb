{
 "cells": [
  {
   "cell_type": "markdown",
   "id": "ae99c83e",
   "metadata": {},
   "source": [
    "# LangGraph Resume Evaluation System\n",
    "\n",
    "This notebook demonstrates a LangGraph-based system for evaluating resumes and generating appropriate responses.\n",
    "\n",
    "## Setup Requirements\n",
    "1. Create a `.env` file in the project directory\n",
    "2. Add your Google API key: `GOOGLE_API_KEY=your_api_key_here`\n",
    "3. The `.env` file is included in `.gitignore` to keep your API key secure"
   ]
  },
  {
   "cell_type": "code",
   "execution_count": 40,
   "id": "d9448ce7",
   "metadata": {},
   "outputs": [
    {
     "name": "stdout",
     "output_type": "stream",
     "text": [
      "Note: you may need to restart the kernel to use updated packages.\n"
     ]
    }
   ],
   "source": [
    "%pip install -q langgraph langchain langchain_google_genai python-dotenv"
   ]
  },
  {
   "cell_type": "code",
   "execution_count": 41,
   "id": "7be58387",
   "metadata": {},
   "outputs": [
    {
     "name": "stdout",
     "output_type": "stream",
     "text": [
      "Requirement already satisfied: langchain_google_genai in c:\\users\\muralidharan s\\appdata\\local\\programs\\python\\python312\\lib\\site-packages (2.1.8)\n",
      "Requirement already satisfied: filetype<2.0.0,>=1.2.0 in c:\\users\\muralidharan s\\appdata\\local\\programs\\python\\python312\\lib\\site-packages (from langchain_google_genai) (1.2.0)\n",
      "Requirement already satisfied: google-ai-generativelanguage<0.7.0,>=0.6.18 in c:\\users\\muralidharan s\\appdata\\local\\programs\\python\\python312\\lib\\site-packages (from langchain_google_genai) (0.6.18)\n",
      "Requirement already satisfied: langchain-core<0.4.0,>=0.3.68 in c:\\users\\muralidharan s\\appdata\\local\\programs\\python\\python312\\lib\\site-packages (from langchain_google_genai) (0.3.68)\n",
      "Requirement already satisfied: pydantic<3,>=2 in c:\\users\\muralidharan s\\appdata\\local\\programs\\python\\python312\\lib\\site-packages (from langchain_google_genai) (2.9.2)\n",
      "Requirement already satisfied: google-api-core!=2.0.*,!=2.1.*,!=2.10.*,!=2.2.*,!=2.3.*,!=2.4.*,!=2.5.*,!=2.6.*,!=2.7.*,!=2.8.*,!=2.9.*,<3.0.0,>=1.34.1 in c:\\users\\muralidharan s\\appdata\\local\\programs\\python\\python312\\lib\\site-packages (from google-api-core[grpc]!=2.0.*,!=2.1.*,!=2.10.*,!=2.2.*,!=2.3.*,!=2.4.*,!=2.5.*,!=2.6.*,!=2.7.*,!=2.8.*,!=2.9.*,<3.0.0,>=1.34.1->google-ai-generativelanguage<0.7.0,>=0.6.18->langchain_google_genai) (2.25.1)\n",
      "Requirement already satisfied: google-auth!=2.24.0,!=2.25.0,<3.0.0,>=2.14.1 in c:\\users\\muralidharan s\\appdata\\local\\programs\\python\\python312\\lib\\site-packages (from google-ai-generativelanguage<0.7.0,>=0.6.18->langchain_google_genai) (2.40.3)\n",
      "Requirement already satisfied: proto-plus<2.0.0,>=1.22.3 in c:\\users\\muralidharan s\\appdata\\local\\programs\\python\\python312\\lib\\site-packages (from google-ai-generativelanguage<0.7.0,>=0.6.18->langchain_google_genai) (1.26.1)\n",
      "Requirement already satisfied: protobuf!=4.21.0,!=4.21.1,!=4.21.2,!=4.21.3,!=4.21.4,!=4.21.5,<7.0.0,>=3.20.2 in c:\\users\\muralidharan s\\appdata\\local\\programs\\python\\python312\\lib\\site-packages (from google-ai-generativelanguage<0.7.0,>=0.6.18->langchain_google_genai) (5.29.5)\n",
      "Requirement already satisfied: googleapis-common-protos<2.0.0,>=1.56.2 in c:\\users\\muralidharan s\\appdata\\local\\programs\\python\\python312\\lib\\site-packages (from google-api-core!=2.0.*,!=2.1.*,!=2.10.*,!=2.2.*,!=2.3.*,!=2.4.*,!=2.5.*,!=2.6.*,!=2.7.*,!=2.8.*,!=2.9.*,<3.0.0,>=1.34.1->google-api-core[grpc]!=2.0.*,!=2.1.*,!=2.10.*,!=2.2.*,!=2.3.*,!=2.4.*,!=2.5.*,!=2.6.*,!=2.7.*,!=2.8.*,!=2.9.*,<3.0.0,>=1.34.1->google-ai-generativelanguage<0.7.0,>=0.6.18->langchain_google_genai) (1.70.0)\n",
      "Requirement already satisfied: requests<3.0.0,>=2.18.0 in c:\\users\\muralidharan s\\appdata\\local\\programs\\python\\python312\\lib\\site-packages (from google-api-core!=2.0.*,!=2.1.*,!=2.10.*,!=2.2.*,!=2.3.*,!=2.4.*,!=2.5.*,!=2.6.*,!=2.7.*,!=2.8.*,!=2.9.*,<3.0.0,>=1.34.1->google-api-core[grpc]!=2.0.*,!=2.1.*,!=2.10.*,!=2.2.*,!=2.3.*,!=2.4.*,!=2.5.*,!=2.6.*,!=2.7.*,!=2.8.*,!=2.9.*,<3.0.0,>=1.34.1->google-ai-generativelanguage<0.7.0,>=0.6.18->langchain_google_genai) (2.32.3)\n",
      "Requirement already satisfied: grpcio<2.0.0,>=1.33.2 in c:\\users\\muralidharan s\\appdata\\local\\programs\\python\\python312\\lib\\site-packages (from google-api-core[grpc]!=2.0.*,!=2.1.*,!=2.10.*,!=2.2.*,!=2.3.*,!=2.4.*,!=2.5.*,!=2.6.*,!=2.7.*,!=2.8.*,!=2.9.*,<3.0.0,>=1.34.1->google-ai-generativelanguage<0.7.0,>=0.6.18->langchain_google_genai) (1.73.1)\n",
      "Requirement already satisfied: grpcio-status<2.0.0,>=1.33.2 in c:\\users\\muralidharan s\\appdata\\local\\programs\\python\\python312\\lib\\site-packages (from google-api-core[grpc]!=2.0.*,!=2.1.*,!=2.10.*,!=2.2.*,!=2.3.*,!=2.4.*,!=2.5.*,!=2.6.*,!=2.7.*,!=2.8.*,!=2.9.*,<3.0.0,>=1.34.1->google-ai-generativelanguage<0.7.0,>=0.6.18->langchain_google_genai) (1.71.2)\n",
      "Requirement already satisfied: cachetools<6.0,>=2.0.0 in c:\\users\\muralidharan s\\appdata\\local\\programs\\python\\python312\\lib\\site-packages (from google-auth!=2.24.0,!=2.25.0,<3.0.0,>=2.14.1->google-ai-generativelanguage<0.7.0,>=0.6.18->langchain_google_genai) (5.5.0)\n",
      "Requirement already satisfied: pyasn1-modules>=0.2.1 in c:\\users\\muralidharan s\\appdata\\local\\programs\\python\\python312\\lib\\site-packages (from google-auth!=2.24.0,!=2.25.0,<3.0.0,>=2.14.1->google-ai-generativelanguage<0.7.0,>=0.6.18->langchain_google_genai) (0.4.2)\n",
      "Requirement already satisfied: rsa<5,>=3.1.4 in c:\\users\\muralidharan s\\appdata\\local\\programs\\python\\python312\\lib\\site-packages (from google-auth!=2.24.0,!=2.25.0,<3.0.0,>=2.14.1->google-ai-generativelanguage<0.7.0,>=0.6.18->langchain_google_genai) (4.9.1)\n",
      "Requirement already satisfied: langsmith>=0.3.45 in c:\\users\\muralidharan s\\appdata\\local\\programs\\python\\python312\\lib\\site-packages (from langchain-core<0.4.0,>=0.3.68->langchain_google_genai) (0.4.4)\n",
      "Requirement already satisfied: tenacity!=8.4.0,<10.0.0,>=8.1.0 in c:\\users\\muralidharan s\\appdata\\local\\programs\\python\\python312\\lib\\site-packages (from langchain-core<0.4.0,>=0.3.68->langchain_google_genai) (9.0.0)\n",
      "Requirement already satisfied: jsonpatch<2.0,>=1.33 in c:\\users\\muralidharan s\\appdata\\local\\programs\\python\\python312\\lib\\site-packages (from langchain-core<0.4.0,>=0.3.68->langchain_google_genai) (1.33)\n",
      "Requirement already satisfied: PyYAML>=5.3 in c:\\users\\muralidharan s\\appdata\\local\\programs\\python\\python312\\lib\\site-packages (from langchain-core<0.4.0,>=0.3.68->langchain_google_genai) (6.0.1)\n",
      "Requirement already satisfied: packaging<25,>=23.2 in c:\\users\\muralidharan s\\appdata\\local\\programs\\python\\python312\\lib\\site-packages (from langchain-core<0.4.0,>=0.3.68->langchain_google_genai) (24.0)\n",
      "Requirement already satisfied: typing-extensions>=4.7 in c:\\users\\muralidharan s\\appdata\\local\\programs\\python\\python312\\lib\\site-packages (from langchain-core<0.4.0,>=0.3.68->langchain_google_genai) (4.14.1)\n",
      "Requirement already satisfied: jsonpointer>=1.9 in c:\\users\\muralidharan s\\appdata\\local\\programs\\python\\python312\\lib\\site-packages (from jsonpatch<2.0,>=1.33->langchain-core<0.4.0,>=0.3.68->langchain_google_genai) (2.4)\n",
      "Requirement already satisfied: annotated-types>=0.6.0 in c:\\users\\muralidharan s\\appdata\\local\\programs\\python\\python312\\lib\\site-packages (from pydantic<3,>=2->langchain_google_genai) (0.7.0)\n",
      "Requirement already satisfied: pydantic-core==2.23.4 in c:\\users\\muralidharan s\\appdata\\local\\programs\\python\\python312\\lib\\site-packages (from pydantic<3,>=2->langchain_google_genai) (2.23.4)\n",
      "Requirement already satisfied: charset-normalizer<4,>=2 in c:\\users\\muralidharan s\\appdata\\local\\programs\\python\\python312\\lib\\site-packages (from requests<3.0.0,>=2.18.0->google-api-core!=2.0.*,!=2.1.*,!=2.10.*,!=2.2.*,!=2.3.*,!=2.4.*,!=2.5.*,!=2.6.*,!=2.7.*,!=2.8.*,!=2.9.*,<3.0.0,>=1.34.1->google-api-core[grpc]!=2.0.*,!=2.1.*,!=2.10.*,!=2.2.*,!=2.3.*,!=2.4.*,!=2.5.*,!=2.6.*,!=2.7.*,!=2.8.*,!=2.9.*,<3.0.0,>=1.34.1->google-ai-generativelanguage<0.7.0,>=0.6.18->langchain_google_genai) (3.3.2)\n",
      "Requirement already satisfied: idna<4,>=2.5 in c:\\users\\muralidharan s\\appdata\\local\\programs\\python\\python312\\lib\\site-packages (from requests<3.0.0,>=2.18.0->google-api-core!=2.0.*,!=2.1.*,!=2.10.*,!=2.2.*,!=2.3.*,!=2.4.*,!=2.5.*,!=2.6.*,!=2.7.*,!=2.8.*,!=2.9.*,<3.0.0,>=1.34.1->google-api-core[grpc]!=2.0.*,!=2.1.*,!=2.10.*,!=2.2.*,!=2.3.*,!=2.4.*,!=2.5.*,!=2.6.*,!=2.7.*,!=2.8.*,!=2.9.*,<3.0.0,>=1.34.1->google-ai-generativelanguage<0.7.0,>=0.6.18->langchain_google_genai) (3.7)\n",
      "Requirement already satisfied: urllib3<3,>=1.21.1 in c:\\users\\muralidharan s\\appdata\\local\\programs\\python\\python312\\lib\\site-packages (from requests<3.0.0,>=2.18.0->google-api-core!=2.0.*,!=2.1.*,!=2.10.*,!=2.2.*,!=2.3.*,!=2.4.*,!=2.5.*,!=2.6.*,!=2.7.*,!=2.8.*,!=2.9.*,<3.0.0,>=1.34.1->google-api-core[grpc]!=2.0.*,!=2.1.*,!=2.10.*,!=2.2.*,!=2.3.*,!=2.4.*,!=2.5.*,!=2.6.*,!=2.7.*,!=2.8.*,!=2.9.*,<3.0.0,>=1.34.1->google-ai-generativelanguage<0.7.0,>=0.6.18->langchain_google_genai) (2.2.1)\n",
      "Requirement already satisfied: certifi>=2017.4.17 in c:\\users\\muralidharan s\\appdata\\local\\programs\\python\\python312\\lib\\site-packages (from requests<3.0.0,>=2.18.0->google-api-core!=2.0.*,!=2.1.*,!=2.10.*,!=2.2.*,!=2.3.*,!=2.4.*,!=2.5.*,!=2.6.*,!=2.7.*,!=2.8.*,!=2.9.*,<3.0.0,>=1.34.1->google-api-core[grpc]!=2.0.*,!=2.1.*,!=2.10.*,!=2.2.*,!=2.3.*,!=2.4.*,!=2.5.*,!=2.6.*,!=2.7.*,!=2.8.*,!=2.9.*,<3.0.0,>=1.34.1->google-ai-generativelanguage<0.7.0,>=0.6.18->langchain_google_genai) (2024.2.2)\n",
      "Requirement already satisfied: pyasn1>=0.1.3 in c:\\users\\muralidharan s\\appdata\\local\\programs\\python\\python312\\lib\\site-packages (from rsa<5,>=3.1.4->google-auth!=2.24.0,!=2.25.0,<3.0.0,>=2.14.1->google-ai-generativelanguage<0.7.0,>=0.6.18->langchain_google_genai) (0.6.1)\n",
      "Requirement already satisfied: httpx<1,>=0.23.0 in c:\\users\\muralidharan s\\appdata\\local\\programs\\python\\python312\\lib\\site-packages (from langsmith>=0.3.45->langchain-core<0.4.0,>=0.3.68->langchain_google_genai) (0.27.0)\n",
      "Requirement already satisfied: orjson<4.0.0,>=3.9.14 in c:\\users\\muralidharan s\\appdata\\local\\programs\\python\\python312\\lib\\site-packages (from langsmith>=0.3.45->langchain-core<0.4.0,>=0.3.68->langchain_google_genai) (3.10.11)\n",
      "Requirement already satisfied: requests-toolbelt<2.0.0,>=1.0.0 in c:\\users\\muralidharan s\\appdata\\local\\programs\\python\\python312\\lib\\site-packages (from langsmith>=0.3.45->langchain-core<0.4.0,>=0.3.68->langchain_google_genai) (1.0.0)\n",
      "Requirement already satisfied: zstandard<0.24.0,>=0.23.0 in c:\\users\\muralidharan s\\appdata\\local\\programs\\python\\python312\\lib\\site-packages (from langsmith>=0.3.45->langchain-core<0.4.0,>=0.3.68->langchain_google_genai) (0.23.0)\n",
      "Requirement already satisfied: anyio in c:\\users\\muralidharan s\\appdata\\local\\programs\\python\\python312\\lib\\site-packages (from httpx<1,>=0.23.0->langsmith>=0.3.45->langchain-core<0.4.0,>=0.3.68->langchain_google_genai) (4.3.0)\n",
      "Requirement already satisfied: httpcore==1.* in c:\\users\\muralidharan s\\appdata\\local\\programs\\python\\python312\\lib\\site-packages (from httpx<1,>=0.23.0->langsmith>=0.3.45->langchain-core<0.4.0,>=0.3.68->langchain_google_genai) (1.0.5)\n",
      "Requirement already satisfied: sniffio in c:\\users\\muralidharan s\\appdata\\local\\programs\\python\\python312\\lib\\site-packages (from httpx<1,>=0.23.0->langsmith>=0.3.45->langchain-core<0.4.0,>=0.3.68->langchain_google_genai) (1.3.1)\n",
      "Requirement already satisfied: h11<0.15,>=0.13 in c:\\users\\muralidharan s\\appdata\\local\\programs\\python\\python312\\lib\\site-packages (from httpcore==1.*->httpx<1,>=0.23.0->langsmith>=0.3.45->langchain-core<0.4.0,>=0.3.68->langchain_google_genai) (0.14.0)\n",
      "Note: you may need to restart the kernel to use updated packages.\n"
     ]
    },
    {
     "data": {
      "text/plain": [
       "True"
      ]
     },
     "execution_count": 41,
     "metadata": {},
     "output_type": "execute_result"
    }
   ],
   "source": [
    "%pip install langchain_google_genai\n",
    "\n",
    "import os\n",
    "from dotenv import load_dotenv\n",
    "from typing import TypedDict, Optional\n",
    "from langgraph.graph import StateGraph\n",
    "from langchain_google_genai import ChatGoogleGenerativeAI\n",
    "from langchain.schema import HumanMessage\n",
    "\n",
    "# Load environment variables from .env file\n",
    "load_dotenv()"
   ]
  },
  {
   "cell_type": "code",
   "execution_count": 42,
   "id": "d5525343",
   "metadata": {},
   "outputs": [
    {
     "name": "stdout",
     "output_type": "stream",
     "text": [
      "✅ API key loaded successfully\n",
      "API key starts with: AIzaSyCtn2...\n"
     ]
    }
   ],
   "source": [
    "# Verify that the API key is loaded\n",
    "api_key = os.getenv(\"GOOGLE_API_KEY\")\n",
    "if api_key:\n",
    "    print(\"✅ API key loaded successfully\")\n",
    "    print(f\"API key starts with: {api_key[:10]}...\")\n",
    "else:\n",
    "    print(\"❌ API key not found. Please check your .env file\")\n",
    "    print(\"Make sure you have a .env file with GOOGLE_API_KEY=your_api_key\")"
   ]
  },
  {
   "cell_type": "code",
   "execution_count": 31,
   "id": "9d7a9b76",
   "metadata": {},
   "outputs": [],
   "source": [
    "class GraphsState(TypedDict):\n",
    "    resume : Optional[str]\n",
    "    qualified : Optional[bool]\n",
    "    message : Optional[str]"
   ]
  },
  {
   "cell_type": "code",
   "execution_count": 43,
   "id": "8af7d525",
   "metadata": {},
   "outputs": [],
   "source": [
    "llm = ChatGoogleGenerativeAI(\n",
    "    model = \"gemini-1.5-flash\",\n",
    "    temperature = 0.1,\n",
    "    api_key = os.getenv(\"GOOGLE_API_KEY\")\n",
    ")"
   ]
  },
  {
   "cell_type": "code",
   "execution_count": 33,
   "id": "ec85a36b",
   "metadata": {},
   "outputs": [],
   "source": [
    "def load_resume(state):\n",
    "    resume = '''Name : John Doe\n",
    "    skills : Python, Data Analysis, Machine Learning\n",
    "    experience : 5 years in software development\n",
    "    education : B.E in Computer Science\n",
    "    certifications : Certified Data Scientist\n",
    "    '''\n",
    "    return {\"resume\" : resume}"
   ]
  },
  {
   "cell_type": "code",
   "execution_count": 34,
   "id": "6a742427",
   "metadata": {},
   "outputs": [],
   "source": [
    "def check_qualification(state):\n",
    "    resume = state[\"resume\"]\n",
    "    prompt = f\"\"\" Based on the following resume, determine if the candidate is qualified for a data scientist position with at least 1 year of experience in data science and machine learning.\n",
    "\n",
    "    Answer only with \"Qualified\" or \"Not Qualified\".\\n\\n{resume}\n",
    "\n",
    "    \"\"\"\n",
    "    response = llm.invoke([HumanMessage(content=prompt)])\n",
    "    if \"qualified\" in response.content.lower():\n",
    "        return {\"qualified\" : True, \"message\" : response.content}\n",
    "    else:\n",
    "        return {\"qualified\" : False, \"message\" : response.content}"
   ]
  },
  {
   "cell_type": "code",
   "execution_count": 35,
   "id": "e2b73118",
   "metadata": {},
   "outputs": [],
   "source": [
    "def write_positive(state):\n",
    "    resume = state[\"resume\"]\n",
    "    prompt = f''' Write a positive message to the candidate based on the following resume,\n",
    "    encouraging them to apply for the data scientist position.\\n\\n{resume}\n",
    "    '''\n",
    "    response = llm.invoke([HumanMessage(content=prompt)])\n",
    "    return {\"message\" : response.content}"
   ]
  },
  {
   "cell_type": "code",
   "execution_count": 36,
   "id": "24ffd5e3",
   "metadata": {},
   "outputs": [],
   "source": [
    "def write_negative(state):\n",
    "    resume = state[\"resume\"]\n",
    "    prompt = f\"\"\"Write a polite rejection message to the candidate based on the following resume,\n",
    "    explaining why they are not qualified for the data scientist position.\n",
    "    \\n\\n {resume}\n",
    "    \"\"\"\n",
    "    response = llm.invoke([HumanMessage(content=prompt)])\n",
    "    return {\"message\": response.content}"
   ]
  },
  {
   "cell_type": "code",
   "execution_count": 37,
   "id": "238dcf80",
   "metadata": {},
   "outputs": [],
   "source": [
    "def route_decision(state):\n",
    "    return \"positive\" if state[\"qualified\"]  else \"negative\""
   ]
  },
  {
   "cell_type": "code",
   "execution_count": 38,
   "id": "c4f10298",
   "metadata": {},
   "outputs": [
    {
     "data": {
      "text/plain": [
       "<langgraph.graph.state.StateGraph at 0x151b49ddd00>"
      ]
     },
     "execution_count": 38,
     "metadata": {},
     "output_type": "execute_result"
    }
   ],
   "source": [
    "builder = StateGraph(GraphsState)\n",
    "builder.add_node(\"load_resume\",load_resume)\n",
    "builder.add_node(\"check_qualification\",check_qualification)\n",
    "builder.add_node(\"positive\",write_positive)\n",
    "builder.add_node(\"negative\",write_negative)\n",
    "\n",
    "# Set up the graph structure\n",
    "builder.set_entry_point(\"load_resume\")\n",
    "builder.add_edge(\"load_resume\", \"check_qualification\")\n",
    "builder.add_conditional_edges(\"check_qualification\", route_decision)\n",
    "builder.add_edge(\"positive\", \"__end__\")\n",
    "builder.add_edge(\"negative\", \"__end__\")"
   ]
  },
  {
   "cell_type": "code",
   "execution_count": 39,
   "id": "a1aa8309",
   "metadata": {},
   "outputs": [
    {
     "name": "stdout",
     "output_type": "stream",
     "text": [
      "Resume\n",
      "Name : John Doe\n",
      "    skills : Python, Data Analysis, Machine Learning\n",
      "    experience : 5 years in software development\n",
      "    education : B.E in Computer Science\n",
      "    certifications : Certified Data Scientist\n",
      "    \n",
      "\n",
      " Result: Qualified \n",
      "\n",
      " Final Message: \n",
      "Subject: Data Scientist Opportunity - A Great Fit for Your Skills!\n",
      "\n",
      "Dear John,\n",
      "\n",
      "Your resume caught our eye, particularly your combination of strong software development experience and your Certified Data Scientist credential.  Five years in software development provides a solid foundation, and your skills in Python, data analysis, and machine learning directly align with the requirements of our open Data Scientist position.\n",
      "\n",
      "We're looking for someone with a proven ability to leverage data to drive impactful results, and your background suggests you'd be a valuable asset to our team.  We encourage you to apply and share more about your experience and how your skills can contribute to [Company Name]'s success.\n",
      "\n",
      "You can find the full job description and application details here: [Link to Job Description]\n",
      "\n",
      "We look forward to reviewing your application!\n",
      "\n",
      "Sincerely,\n",
      "\n",
      "The [Company Name] Hiring Team\n"
     ]
    }
   ],
   "source": [
    "graph = builder.compile()\n",
    "output = graph.invoke({})\n",
    "\n",
    "\n",
    "\n",
    "print(\"Resume\")\n",
    "print(output[\"resume\"])\n",
    "print(\"\\n Result:\",\"Qualified \" if output[\"qualified\"] else \"Not Qualified\")\n",
    "print(\"\\n Final Message: \")\n",
    "print(output[\"message\"])"
   ]
  }
 ],
 "metadata": {
  "kernelspec": {
   "display_name": "Python 3",
   "language": "python",
   "name": "python3"
  },
  "language_info": {
   "codemirror_mode": {
    "name": "ipython",
    "version": 3
   },
   "file_extension": ".py",
   "mimetype": "text/x-python",
   "name": "python",
   "nbconvert_exporter": "python",
   "pygments_lexer": "ipython3",
   "version": "3.12.3"
  }
 },
 "nbformat": 4,
 "nbformat_minor": 5
}
